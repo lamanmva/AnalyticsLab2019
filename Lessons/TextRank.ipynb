{
 "cells": [
  {
   "cell_type": "raw",
   "metadata": {},
   "source": [
    "text = \"Mr. and Mrs. Dursley, of number four, Privet Drive, were proud to say that they were perfectly normal, thank you very much. They were the last people you'd expect to be involved in anything strange or mysterious, because they just didn't hold with such nonsense. Mr. Dursley was the director of a firm called Grunnings, which made drills. He was a big, beefy man with hardly any neck, although he did have a very large mustache. Mrs. Dursley was thin and blonde and had nearly twice the usual amount of neck, which came in very useful as she spent so much of her time craning over garden fences, spying on the neighbors. The Dursleys had a small son called Dudley and in their opinion there was no finer boy anywhere. The Dursleys had everything they wanted, but they also had a secret, and their greatest fear was that somebody would discover it. They didn't think they could bear it if anyone found out about the Potters. Mrs. Potter was Mrs. Dursley's sister, but they hadn't met for several years; in fact, Mrs. Dursley pretended she didn't have a sister, because her sister and her good-for-nothing husband were as unDursleyish as it was possible to be. The Dursleys shuddered to think what the neighbors would say if the Potters arrived in the street. The Dursleys knew that the Potters had a small son, too, but they had never even seen him. This boy was another good reason for keeping the Potters away; they didn't want Dudley mixing with a child like that. When Mr. and Mrs. Dursley woke up on the dull, gray Tuesday our story starts, there was nothing about the cloudy sky outside to suggest that strange and mysterious things would soon be happening all over the country. Mr. Dursley hummed as he picked out his most boring tie for work, and Mrs. Dursley gossiped away happily as she wrestled a screaming Dudley into his high chair. None of them noticed a large, tawny owl flutter past the window. At half past eight, Mr. Dursley picked up his briefcase, pecked Mrs. Dursley on the cheek, and tried to kiss Dudley good-bye but missed, because Dudley was now having a tantrum and throwing his cereal at the walls. Little tyke, chortled Mr. Dursley as he left the house. He got into his car and backed out of number four drive. \""
   ]
  },
  {
   "cell_type": "code",
   "execution_count": 2,
   "metadata": {},
   "outputs": [
    {
     "name": "stdout",
     "output_type": "stream",
     "text": [
      "The Dursleys had a small son called Dudley and in their opinion there was no finer boy anywhere.\n",
      "This boy was another good reason for keeping the Potters away; they didn't want Dudley mixing with a child like that.\n",
      "Mr. Dursley hummed as he picked out his most boring tie for work, and Mrs. Dursley gossiped away happily as she wrestled a screaming Dudley into his high chair.\n"
     ]
    }
   ],
   "source": [
    "from gensim.summarization import summarize\n",
    "print (summarize(text))# choose similarity measure, \n"
   ]
  },
  {
   "cell_type": "code",
   "execution_count": 5,
   "metadata": {},
   "outputs": [
    {
     "name": "stdout",
     "output_type": "stream",
     "text": [
      "mrs\n",
      "sky\n",
      "beefy\n",
      "gray\n",
      "little\n",
      "dudley\n",
      "good\n",
      "tawny owl\n",
      "large\n"
     ]
    }
   ],
   "source": [
    "from gensim.summarization import keywords\n",
    "print (keywords(text, words=10))"
   ]
  },
  {
   "cell_type": "code",
   "execution_count": null,
   "metadata": {},
   "outputs": [],
   "source": []
  },
  {
   "cell_type": "code",
   "execution_count": 43,
   "metadata": {},
   "outputs": [],
   "source": [
    "# Parameter M adjacency matrix where M_i,j represents the link from 'j' to 'i', such that for all 'j'\n",
    "# sum(i, M_i,j) = 1\n",
    "# Parameter d damping factor (default value 0.85)\n",
    "# Parameter eps quadratic error for v (default value 1.0e-8)\n",
    "# Return v, a vector of ranks such that v_i is the i-th rank from [0, 1]\n",
    "\n",
    "import numpy as np\n",
    "\n",
    "def pagerank(M, eps=1.0e-8, d=0.85):\n",
    "    N = M.shape[1]\n",
    "    v = np.random.rand(N, 1)\n",
    "    v = v / np.linalg.norm(v, 1)\n",
    "    last_v = np.ones((N, 1), dtype=np.float32) * 100\n",
    "    \n",
    "    while np.linalg.norm(v - last_v, 2) > eps:\n",
    "        last_v = v\n",
    "        v = d * np.matmul(M, v) + (1 - d) / N\n",
    "    return v\n",
    "\n",
    "M = np.array([[0, 0, 0, 0, 1],\n",
    "              [0.5, 0, 0, 0, 0],\n",
    "              [0.5, 0, 0, 0, 0],\n",
    "              [0, 1, 0.5, 0, 0],\n",
    "              [0, 0, 0.5, 1, 0]])\n",
    "\n",
    "M = np.array([[0,   0,   0,   0,    0 ],\n",
    "              [1/3, 0,   0,   1/2, 1/2],\n",
    "              [1/3, 0,   0,   1/2,  0 ],\n",
    "              [1/3, 1/2, 1/2, 0,   1/2],\n",
    "              [0,   1/2, 1/2, 0,    0 ]])\n",
    "\n",
    "v = pagerank(M, 0.00001, 0.85)"
   ]
  },
  {
   "cell_type": "code",
   "execution_count": 44,
   "metadata": {},
   "outputs": [
    {
     "data": {
      "text/plain": [
       "array([[0.03      ],\n",
       "       [0.26473748],\n",
       "       [0.17293412],\n",
       "       [0.31631588],\n",
       "       [0.21601252]])"
      ]
     },
     "execution_count": 44,
     "metadata": {},
     "output_type": "execute_result"
    }
   ],
   "source": [
    "v\n",
    "#M.shape[1]"
   ]
  },
  {
   "cell_type": "code",
   "execution_count": 21,
   "metadata": {},
   "outputs": [],
   "source": [
    "import networkx as nx\n",
    "\n",
    "nx_graph = nx.from_numpy_array(M)\n",
    "scores = nx.pagerank(nx_graph,1)"
   ]
  },
  {
   "cell_type": "code",
   "execution_count": 24,
   "metadata": {},
   "outputs": [
    {
     "data": {
      "text/plain": [
       "{0: 0.14285745447131143,\n",
       " 1: 0.19047574212729215,\n",
       " 2: 0.19047574212729215,\n",
       " 3: 0.26190487956713726,\n",
       " 4: 0.21428618170696712}"
      ]
     },
     "execution_count": 24,
     "metadata": {},
     "output_type": "execute_result"
    }
   ],
   "source": [
    "scores"
   ]
  },
  {
   "cell_type": "code",
   "execution_count": 6,
   "metadata": {},
   "outputs": [
    {
     "data": {
      "text/plain": [
       "array([[0.   , 0.   , 0.   , 0.   , 0.85 ],\n",
       "       [0.425, 0.   , 0.   , 0.   , 0.   ],\n",
       "       [0.425, 0.   , 0.   , 0.   , 0.   ],\n",
       "       [0.   , 0.85 , 0.425, 0.   , 0.   ],\n",
       "       [0.   , 0.   , 0.425, 0.85 , 0.   ]])"
      ]
     },
     "execution_count": 6,
     "metadata": {},
     "output_type": "execute_result"
    }
   ],
   "source": [
    "d=0.85\n",
    "M2 = d*M\n",
    "M2"
   ]
  },
  {
   "cell_type": "code",
   "execution_count": 49,
   "metadata": {},
   "outputs": [
    {
     "data": {
      "text/plain": [
       "array([[1., 1., 1., 1., 1.],\n",
       "       [1., 1., 1., 1., 1.],\n",
       "       [1., 1., 1., 1., 1.],\n",
       "       [1., 1., 1., 1., 1.],\n",
       "       [1., 1., 1., 1., 1.]])"
      ]
     },
     "execution_count": 49,
     "metadata": {},
     "output_type": "execute_result"
    }
   ],
   "source": [
    "np.ones(M.shape)"
   ]
  },
  {
   "cell_type": "code",
   "execution_count": 50,
   "metadata": {},
   "outputs": [],
   "source": [
    "w0, v0 =np.linalg.eig(M2 - (1-d)*np.ones(M.shape))"
   ]
  },
  {
   "cell_type": "code",
   "execution_count": 51,
   "metadata": {},
   "outputs": [
    {
     "data": {
      "text/plain": [
       "array([[ 5.60849071e-01+0.j        ,  5.60849071e-01-0.j        ,\n",
       "         5.37265540e-01+0.j        ,  7.69352766e-01+0.j        ,\n",
       "         9.00869559e-16+0.j        ],\n",
       "       [-2.30876903e-02-0.29863814j, -2.30876903e-02+0.29863814j,\n",
       "        -3.13943307e-01+0.j        ,  2.57993484e-01+0.j        ,\n",
       "        -4.08248290e-01+0.j        ],\n",
       "       [-2.30876903e-02-0.29863814j, -2.30876903e-02+0.29863814j,\n",
       "        -3.13943307e-01+0.j        ,  2.57993484e-01+0.j        ,\n",
       "         8.16496581e-01+0.j        ],\n",
       "       [-4.74200822e-01+0.07376171j, -4.74200822e-01-0.07376171j,\n",
       "         5.50344620e-01+0.j        ,  2.77661149e-01+0.j        ,\n",
       "        -4.08248290e-01+0.j        ],\n",
       "       [-4.04728685e-02+0.52351456j, -4.04728685e-02-0.52351456j,\n",
       "        -4.59723547e-01+0.j        ,  4.44836299e-01+0.j        ,\n",
       "         3.41726570e-16+0.j        ]])"
      ]
     },
     "execution_count": 51,
     "metadata": {},
     "output_type": "execute_result"
    }
   ],
   "source": [
    "v0"
   ]
  },
  {
   "cell_type": "code",
   "execution_count": null,
   "metadata": {},
   "outputs": [],
   "source": []
  }
 ],
 "metadata": {
  "kernelspec": {
   "display_name": "Python 3",
   "language": "python",
   "name": "python3"
  },
  "language_info": {
   "codemirror_mode": {
    "name": "ipython",
    "version": 3
   },
   "file_extension": ".py",
   "mimetype": "text/x-python",
   "name": "python",
   "nbconvert_exporter": "python",
   "pygments_lexer": "ipython3",
   "version": "3.6.4"
  }
 },
 "nbformat": 4,
 "nbformat_minor": 2
}
